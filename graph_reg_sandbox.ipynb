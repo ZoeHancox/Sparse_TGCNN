{
 "cells": [
  {
   "cell_type": "code",
   "execution_count": 1,
   "id": "5088f276",
   "metadata": {
    "ExecuteTime": {
     "end_time": "2022-10-13T09:22:55.726433Z",
     "start_time": "2022-10-13T09:22:38.301835Z"
    }
   },
   "outputs": [],
   "source": [
    "import tensorflow as tf"
   ]
  },
  {
   "cell_type": "markdown",
   "id": "30edacc6",
   "metadata": {},
   "source": [
    "----------"
   ]
  },
  {
   "cell_type": "code",
   "execution_count": 2,
   "id": "9fc2042c",
   "metadata": {
    "ExecuteTime": {
     "end_time": "2022-10-13T13:14:39.305743Z",
     "start_time": "2022-10-13T13:14:39.227079Z"
    }
   },
   "outputs": [
    {
     "data": {
      "text/plain": [
       "<tf.Tensor: shape=(27,), dtype=float32, numpy=\n",
       "array([2.5, 1. , 3. , 0.5, 1. , 3. , 0.5, 1. , 3. , 0.5, 1. , 3. , 0.5,\n",
       "       1. , 3. , 0.5, 1. , 3. , 0.5, 1. , 3. , 0.5, 1. , 3. , 0.5, 1. ,\n",
       "       3. ], dtype=float32)>"
      ]
     },
     "execution_count": 2,
     "metadata": {},
     "output_type": "execute_result"
    }
   ],
   "source": [
    "filt_complex = tf.constant([2.5, 1, 3, 0.5, 1, 3, 0.5, 1, 3, 0.5, 1, 3, 0.5, 1, 3, 0.5, 1, 3, 0.5, 1, 3, 0.5, 1, 3, 0.5, 1, 3])\n",
    "filt_complex"
   ]
  },
  {
   "cell_type": "code",
   "execution_count": 3,
   "id": "8ed5b449",
   "metadata": {
    "ExecuteTime": {
     "end_time": "2022-10-13T13:14:39.616925Z",
     "start_time": "2022-10-13T13:14:39.611749Z"
    }
   },
   "outputs": [
    {
     "data": {
      "text/plain": [
       "<tf.Tensor: shape=(27,), dtype=float32, numpy=\n",
       "array([2.5, 1. , 3. , 0.5, 1. , 3. , 0.5, 1. , 3. , 0.5, 1. , 3. , 0.5,\n",
       "       1. , 3. , 0.5, 1. , 3. , 0.5, 1. , 3. , 0.5, 1. , 3. , 0.5, 1. ,\n",
       "       3. ], dtype=float32)>"
      ]
     },
     "execution_count": 3,
     "metadata": {},
     "output_type": "execute_result"
    }
   ],
   "source": [
    "Fiabs = tf.abs(filt_complex)\n",
    "Fiabs"
   ]
  },
  {
   "cell_type": "code",
   "execution_count": 4,
   "id": "13d8944f",
   "metadata": {
    "ExecuteTime": {
     "end_time": "2022-10-13T13:14:39.901650Z",
     "start_time": "2022-10-13T13:14:39.846599Z"
    }
   },
   "outputs": [
    {
     "data": {
      "text/plain": [
       "<tf.Tensor: shape=(9,), dtype=float32, numpy=array([2.5, 0.5, 0.5, 0.5, 0.5, 0.5, 0.5, 0.5, 0.5], dtype=float32)>"
      ]
     },
     "execution_count": 4,
     "metadata": {},
     "output_type": "execute_result"
    }
   ],
   "source": [
    "filtersize=3\n",
    "k = 0\n",
    "\n",
    "Fiabs[k::filtersize]"
   ]
  },
  {
   "cell_type": "code",
   "execution_count": 37,
   "id": "60050451",
   "metadata": {
    "ExecuteTime": {
     "end_time": "2022-10-13T13:15:50.846898Z",
     "start_time": "2022-10-13T13:15:50.796489Z"
    }
   },
   "outputs": [
    {
     "name": "stdout",
     "output_type": "stream",
     "text": [
      "tf.Tensor([2.5 0.5 0.5 0.5 0.5 0.5 0.5 0.5 0.5], shape=(9,), dtype=float32)\n",
      "tf.Tensor([ True False False False False False False False False], shape=(9,), dtype=bool)\n",
      "tf.Tensor(True, shape=(), dtype=bool)\n",
      "deviance: 0\n",
      "\n",
      "\n",
      "tf.Tensor([1. 1. 1. 1. 1. 1. 1. 1. 1.], shape=(9,), dtype=float32)\n",
      "tf.Tensor([False False False False False False False False False], shape=(9,), dtype=bool)\n",
      "tf.Tensor(False, shape=(), dtype=bool)\n",
      "deviance: tf.Tensor(27.0, shape=(), dtype=float32)\n",
      "\n",
      "\n",
      "tf.Tensor([3. 3. 3. 3. 3. 3. 3. 3. 3.], shape=(9,), dtype=float32)\n",
      "tf.Tensor([ True  True  True  True  True  True  True  True  True], shape=(9,), dtype=bool)\n",
      "tf.Tensor(True, shape=(), dtype=bool)\n",
      "deviance: tf.Tensor(27.0, shape=(), dtype=float32)\n",
      "\n",
      "\n"
     ]
    }
   ],
   "source": [
    "# one graph at a time\n",
    "filt_complex = tf.constant([2.5, 1, 3, 0.5, 1, 3, 0.5, 1, 3, 0.5, 1, 3, 0.5, 1, 3, 0.5, 1, 3, 0.5, 1, 3, 0.5, 1, 3, 0.5, 1, 3])\n",
    "Fiabs = tf.abs(filt_complex)\n",
    "filtersize=3\n",
    "k = 0\n",
    "\n",
    "Fiabs[k::filtersize]\n",
    "\n",
    "threshold = 1.1\n",
    "deviance = 0\n",
    "for k in range(filtersize):\n",
    "    timestep = Fiabs[k::filtersize]\n",
    "    above_thres = tf.greater(timestep, threshold)\n",
    "    below_thres = tf.less(timestep, threshold)\n",
    "    prior_connection = tf.reduce_any(above_thres) # reduce_any returns if there is a True in the Tensor\n",
    "    # If prior_connection == False\n",
    "    # Calculate the sum of the weights that are below the threshold in the next timestep\n",
    "    if prior_connection == False:\n",
    "        deviance += tf.reduce_sum(tf.boolean_mask(Fiabs[k+1::filtersize], below_thres))\n",
    "    print(timestep)\n",
    "    print(above_thres)\n",
    "    print(prior_connection)\n",
    "    print(\"deviance:\", deviance)\n",
    "    print(\"\\n\")"
   ]
  },
  {
   "attachments": {},
   "cell_type": "markdown",
   "id": "6ef05e30",
   "metadata": {},
   "source": [
    "## While loop to parallelise graphs\n"
   ]
  },
  {
   "cell_type": "code",
   "execution_count": 21,
   "id": "b1bab6e6",
   "metadata": {},
   "outputs": [
    {
     "name": "stdout",
     "output_type": "stream",
     "text": [
      "tf.Tensor([2.5 0.5 0.5 0.5 0.5 0.5 0.5 0.5 0.5], shape=(9,), dtype=float32)\n",
      "tf.Tensor([ True False False False False False False False False], shape=(9,), dtype=bool)\n",
      "tf.Tensor([1. 1. 1. 1. 1. 1. 1. 1. 1.], shape=(9,), dtype=float32)\n",
      "tf.Tensor([False False False False False False False False False], shape=(9,), dtype=bool)\n",
      "tf.Tensor([3. 3. 3. 3. 3. 3. 3. 3. 3.], shape=(9,), dtype=float32)\n",
      "tf.Tensor([ True  True  True  True  True  True  True  True  True], shape=(9,), dtype=bool)\n"
     ]
    },
    {
     "data": {
      "text/plain": [
       "27.0"
      ]
     },
     "execution_count": 21,
     "metadata": {},
     "output_type": "execute_result"
    }
   ],
   "source": [
    "filt_complex = tf.constant([2.5, 1, 3, 0.5, 1, 3, 0.5, 1, 3, 0.5, 1, 3, 0.5, 1, 3, 0.5, 1, 3, 0.5, 1, 3, 0.5, 1, 3, 0.5, 1, 3])\n",
    "Fiabs = tf.abs(filt_complex)\n",
    "filtersize = 3\n",
    "threshold = 1.1\n",
    "deviances = []\n",
    "k=0\n",
    "while k < filtersize:\n",
    "    timestep = Fiabs[k::filtersize]\n",
    "    print(timestep)\n",
    "    above_thres = tf.cast(tf.greater(timestep, threshold), tf.bool)\n",
    "    below_thres = tf.cast(tf.less(timestep, threshold), tf.bool)\n",
    "    print(above_thres)\n",
    "    prior_connection = tf.reduce_any(above_thres)\n",
    "    \n",
    "    if not prior_connection:\n",
    "        deviances.append(tf.reduce_sum(tf.boolean_mask(Fiabs[k+1::filtersize], below_thres)))\n",
    "    \n",
    "    k += 1\n",
    "\n",
    "deviance = tf.reduce_sum(deviances)\n",
    "deviance.numpy()\n"
   ]
  },
  {
   "cell_type": "code",
   "execution_count": 20,
   "id": "3d84fb1d",
   "metadata": {},
   "outputs": [
    {
     "data": {
      "text/plain": [
       "27.0"
      ]
     },
     "execution_count": 20,
     "metadata": {},
     "output_type": "execute_result"
    }
   ],
   "source": [
    "def filter_deviance(filter, filtersize):\n",
    "    \"\"\"Calculates the deviance of a sparse graph where deviance is\n",
    "    defined as when a graph has no feeder event or following\n",
    "    connections.\n",
    "\n",
    "    Args:\n",
    "        filter (tf.Tensor): Weights from the graph.\n",
    "        filter_size (int): Number of time steps (t) to use in 3D CNN filters.\n",
    "\n",
    "    Returns:\n",
    "        float: Unscaled deviance from the so-called 'perfect' graph.\n",
    "    \"\"\"\n",
    "    Fiabs = tf.abs(filter)\n",
    "    threshold = 1.1\n",
    "    deviances = []\n",
    "    k=0\n",
    "    while k < filtersize:\n",
    "        timestep = Fiabs[k::filtersize]\n",
    "        above_thres = tf.cast(tf.greater(timestep, threshold), tf.bool)\n",
    "        below_thres = tf.cast(tf.less(timestep, threshold), tf.bool)\n",
    "        prior_connection = tf.reduce_any(above_thres)\n",
    "        \n",
    "        if not prior_connection:\n",
    "            deviances.append(tf.reduce_sum(tf.boolean_mask(Fiabs[k+1::filtersize], below_thres)))\n",
    "        \n",
    "        k += 1\n",
    "\n",
    "    deviance = tf.reduce_sum(deviances)\n",
    "    \n",
    "    return deviance.numpy()\n",
    "\n",
    "filter_deviance(filt_complex, filtersize=3)"
   ]
  }
 ],
 "metadata": {
  "kernelspec": {
   "display_name": "Python 3",
   "language": "python",
   "name": "python3"
  },
  "language_info": {
   "codemirror_mode": {
    "name": "ipython",
    "version": 3
   },
   "file_extension": ".py",
   "mimetype": "text/x-python",
   "name": "python",
   "nbconvert_exporter": "python",
   "pygments_lexer": "ipython3",
   "version": "3.9.12"
  }
 },
 "nbformat": 4,
 "nbformat_minor": 5
}
